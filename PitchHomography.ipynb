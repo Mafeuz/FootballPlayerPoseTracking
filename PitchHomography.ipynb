{
 "cells": [
  {
   "cell_type": "code",
   "execution_count": 2,
   "id": "32ee27fc",
   "metadata": {},
   "outputs": [],
   "source": [
    "import numpy as np\n",
    "import cv2\n",
    "import OpCV_Utils\n",
    "import time"
   ]
  },
  {
   "cell_type": "code",
   "execution_count": 21,
   "id": "d39d8770",
   "metadata": {},
   "outputs": [],
   "source": [
    "pitch = cv2.imread('football_pitch.jpg')\n",
    "game  = cv2.imread('world_cup.png')\n",
    "\n",
    "pitch = cv2.resize(pitch, (640, 480))\n",
    "game  = cv2.resize(game, (640, 480))\n",
    "\n",
    "cv2.imshow('pitch', np.hstack([pitch, game]))\n",
    "cv2.waitKey(0)\n",
    "cv2.destroyAllWindows()"
   ]
  },
  {
   "cell_type": "code",
   "execution_count": 79,
   "id": "db43c54b",
   "metadata": {},
   "outputs": [],
   "source": [
    "pitch = cv2.imread('football_pitch.jpg')\n",
    "game  = cv2.imread('world_cup.png')\n",
    "\n",
    "pitch = cv2.resize(pitch, (640, 480))\n",
    "game  = cv2.resize(game, (640, 480))\n",
    "\n",
    "pts1 = np.float32([[290, 100], [510, 120],\n",
    "                    [87, 200], [335, 270]])\n",
    "\n",
    "\n",
    "cv2.circle(game, (290, 100), 3, (255,0,0), thickness = -1, lineType = cv2.LINE_AA)\n",
    "cv2.circle(game, (510, 120), 3, (255,0,0), thickness = -1, lineType = cv2.LINE_AA)\n",
    "cv2.circle(game, (87, 200), 3, (255,0,0), thickness = -1, lineType = cv2.LINE_AA)\n",
    "cv2.circle(game, (335, 270), 3, (255,0,0), thickness = -1, lineType = cv2.LINE_AA)\n",
    "\n",
    "cv2.imshow('pitch', game)\n",
    "cv2.waitKey(0)\n",
    "cv2.destroyAllWindows()\n",
    "\n",
    "pts2 = np.float32([[0, 0], [640, 0],\n",
    "                   [0, 480], [640, 480]])\n",
    "\n",
    "# Apply Perspective Transform Algorithm\n",
    "matrix = cv2.getPerspectiveTransform(pts1, pts2)\n",
    "result = cv2.warpPerspective(game, matrix, (1280, 960))\n",
    "\n",
    "cv2.imshow('pitch', cv2.resize(result, (640, 480)))\n",
    "cv2.waitKey(0)\n",
    "cv2.destroyAllWindows()"
   ]
  },
  {
   "cell_type": "code",
   "execution_count": 85,
   "id": "c080e142",
   "metadata": {},
   "outputs": [
    {
     "name": "stdout",
     "output_type": "stream",
     "text": [
      "[[[244.28139 412.41385]]]\n"
     ]
    }
   ],
   "source": [
    "coords = np.float32([[[200, 200]]])\n",
    "\n",
    "new_coords = cv2.perspectiveTransform(coords, matrix)\n",
    "\n",
    "print(new_coords)"
   ]
  },
  {
   "cell_type": "code",
   "execution_count": null,
   "id": "97beafa2",
   "metadata": {},
   "outputs": [],
   "source": []
  }
 ],
 "metadata": {
  "kernelspec": {
   "display_name": "Python 3 (ipykernel)",
   "language": "python",
   "name": "python3"
  },
  "language_info": {
   "codemirror_mode": {
    "name": "ipython",
    "version": 3
   },
   "file_extension": ".py",
   "mimetype": "text/x-python",
   "name": "python",
   "nbconvert_exporter": "python",
   "pygments_lexer": "ipython3",
   "version": "3.7.9"
  }
 },
 "nbformat": 4,
 "nbformat_minor": 5
}
